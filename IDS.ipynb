{
 "cells": [
  {
   "cell_type": "markdown",
   "metadata": {
    "colab_type": "text",
    "id": "U_YYoEHFOLrY"
   },
   "source": [
    "# Intrusion Detection System"
   ]
  },
  {
   "cell_type": "code",
   "execution_count": 1,
   "metadata": {
    "colab": {
     "base_uri": "https://localhost:8080/",
     "height": 34
    },
    "colab_type": "code",
    "executionInfo": {
     "elapsed": 25913,
     "status": "ok",
     "timestamp": 1600449536696,
     "user": {
      "displayName": "ramesh",
      "photoUrl": "https://lh3.googleusercontent.com/a-/AOh14GibQi0J07iF_XvDa7EvY1d98sPd3bUf5r4yameO=s64",
      "userId": "14563000475185738690"
     },
     "user_tz": -330
    },
    "id": "zuqAfHpbOVH4",
    "outputId": "0be97e6b-181c-4a25-9cb0-2201212f14c3"
   },
   "outputs": [],
   "source": [
    "#from google.colab import drive\n",
    "#drive.mount('/content/drive')"
   ]
  },
  {
   "cell_type": "code",
   "execution_count": 2,
   "metadata": {
    "colab": {
     "base_uri": "https://localhost:8080/",
     "height": 343
    },
    "colab_type": "code",
    "executionInfo": {
     "elapsed": 11280,
     "status": "ok",
     "timestamp": 1600449509270,
     "user": {
      "displayName": "ramesh",
      "photoUrl": "https://lh3.googleusercontent.com/a-/AOh14GibQi0J07iF_XvDa7EvY1d98sPd3bUf5r4yameO=s64",
      "userId": "14563000475185738690"
     },
     "user_tz": -330
    },
    "id": "EIGds1a5OLra",
    "outputId": "4d2fc79e-c76c-454e-ecbb-487d2ecb8a6e",
    "scrolled": true
   },
   "outputs": [
    {
     "name": "stdout",
     "output_type": "stream",
     "text": [
      "Defaulting to user installation because normal site-packages is not writeable\n",
      "Requirement already satisfied: pandas in /usr/lib/python3/dist-packages (2.1.4+dfsg)\n"
     ]
    }
   ],
   "source": [
    "!pip install pandas\n",
    "#==1.0.1"
   ]
  },
  {
   "cell_type": "markdown",
   "metadata": {
    "colab_type": "text",
    "id": "Z423uwvqidYs"
   },
   "source": [
    "Machine Learning"
   ]
  },
  {
   "cell_type": "code",
   "execution_count": 3,
   "metadata": {
    "colab": {},
    "colab_type": "code",
    "executionInfo": {
     "elapsed": 1645,
     "status": "ok",
     "timestamp": 1600455088396,
     "user": {
      "displayName": "ramesh",
      "photoUrl": "https://lh3.googleusercontent.com/a-/AOh14GibQi0J07iF_XvDa7EvY1d98sPd3bUf5r4yameO=s64",
      "userId": "14563000475185738690"
     },
     "user_tz": -330
    },
    "id": "Sc73dfG5RtDQ"
   },
   "outputs": [],
   "source": [
    "#importing the package for calling the dataset \n",
    "import numpy as np\n",
    "import pandas as pd"
   ]
  },
  {
   "cell_type": "code",
   "execution_count": 4,
   "metadata": {
    "colab": {},
    "colab_type": "code",
    "executionInfo": {
     "elapsed": 815,
     "status": "ok",
     "timestamp": 1600455089971,
     "user": {
      "displayName": "ramesh",
      "photoUrl": "https://lh3.googleusercontent.com/a-/AOh14GibQi0J07iF_XvDa7EvY1d98sPd3bUf5r4yameO=s64",
      "userId": "14563000475185738690"
     },
     "user_tz": -330
    },
    "id": "_ZS_K8kVOLrn"
   },
   "outputs": [],
   "source": [
    "#from google.colab import files\n",
    "#uploaded = files.upload()"
   ]
  },
  {
   "cell_type": "code",
   "execution_count": 5,
   "metadata": {
    "colab": {},
    "colab_type": "code",
    "executionInfo": {
     "elapsed": 1304,
     "status": "ok",
     "timestamp": 1600455093241,
     "user": {
      "displayName": "ramesh",
      "photoUrl": "https://lh3.googleusercontent.com/a-/AOh14GibQi0J07iF_XvDa7EvY1d98sPd3bUf5r4yameO=s64",
      "userId": "14563000475185738690"
     },
     "user_tz": -330
    },
    "id": "S1CXOdo9OLrr"
   },
   "outputs": [],
   "source": [
    "#dataset is called from the path and stored in a variable's for testing and training \n",
    "#traning_data = pd.read_csv('/content/drive/My Drive/notebook/kdd_all.csv')\n",
    "#testing_data = pd.read_csv('/content/drive/My Drive/notebook/kdd_access.csv')\n",
    "\n",
    "traning_data = pd.read_csv('kdd_all.csv')\n",
    "testing_data = pd.read_csv('kdd_access.csv')"
   ]
  },
  {
   "cell_type": "code",
   "execution_count": 6,
   "metadata": {
    "colab": {},
    "colab_type": "code",
    "executionInfo": {
     "elapsed": 759,
     "status": "ok",
     "timestamp": 1600455094829,
     "user": {
      "displayName": "ramesh",
      "photoUrl": "https://lh3.googleusercontent.com/a-/AOh14GibQi0J07iF_XvDa7EvY1d98sPd3bUf5r4yameO=s64",
      "userId": "14563000475185738690"
     },
     "user_tz": -330
    },
    "id": "Oql6FPG1OLrv"
   },
   "outputs": [],
   "source": [
    "#calling the particular column for analysis and predicting\n",
    "features = traning_data.iloc[:, [0, 1, 2]].values\n",
    "labels = traning_data.iloc[:, 3].values"
   ]
  },
  {
   "cell_type": "code",
   "execution_count": 7,
   "metadata": {
    "colab": {},
    "colab_type": "code",
    "executionInfo": {
     "elapsed": 1505,
     "status": "ok",
     "timestamp": 1600455098632,
     "user": {
      "displayName": "ramesh",
      "photoUrl": "https://lh3.googleusercontent.com/a-/AOh14GibQi0J07iF_XvDa7EvY1d98sPd3bUf5r4yameO=s64",
      "userId": "14563000475185738690"
     },
     "user_tz": -330
    },
    "id": "xfQyDP6JO9Uf"
   },
   "outputs": [],
   "source": [
    "#main function for the precision after analysis\n",
    "def get_occuracy(real_labels, predicted_labels, fltr):\n",
    "        real_label_count = 0.0\n",
    "        predicted_label_count = 0.0\n",
    "\n",
    "        for real_label in real_labels:\n",
    "                if real_label == fltr:\n",
    "                        real_label_count += 1\n",
    "\n",
    "        for predicted_label in predicted_labels:\n",
    "                if predicted_label == fltr:\n",
    "                        predicted_label_count += 1\n",
    "\n",
    "        print( \"Real number of attacks: \" + str(real_label_count))\n",
    "        print( \"Predicted number of attacks: \" + str(predicted_label_count))\n",
    "\n",
    "        precision = predicted_label_count * 100 / real_label_count\n",
    "        return precision"
   ]
  },
  {
   "cell_type": "code",
   "execution_count": 8,
   "metadata": {
    "colab": {},
    "colab_type": "code",
    "executionInfo": {
     "elapsed": 1554,
     "status": "ok",
     "timestamp": 1600455101840,
     "user": {
      "displayName": "ramesh",
      "photoUrl": "https://lh3.googleusercontent.com/a-/AOh14GibQi0J07iF_XvDa7EvY1d98sPd3bUf5r4yameO=s64",
      "userId": "14563000475185738690"
     },
     "user_tz": -330
    },
    "id": "0A52k2nkPJ6w"
   },
   "outputs": [],
   "source": [
    "from sklearn.model_selection import train_test_split\n",
    "\n",
    "# Split dataset into training set and test set\n",
    "X_train, X_test, y_train, y_test = train_test_split(features, labels, test_size=0.3,random_state=109) # 70% training and 30% test"
   ]
  },
  {
   "cell_type": "markdown",
   "metadata": {
    "colab_type": "text",
    "id": "z7kqOpsBOLrz"
   },
   "source": [
    "# Support Vector Machine Classifier"
   ]
  },
  {
   "cell_type": "code",
   "execution_count": 9,
   "metadata": {
    "colab": {
     "base_uri": "https://localhost:8080/",
     "height": 153
    },
    "colab_type": "code",
    "executionInfo": {
     "elapsed": 9135,
     "status": "ok",
     "timestamp": 1600455112731,
     "user": {
      "displayName": "ramesh",
      "photoUrl": "https://lh3.googleusercontent.com/a-/AOh14GibQi0J07iF_XvDa7EvY1d98sPd3bUf5r4yameO=s64",
      "userId": "14563000475185738690"
     },
     "user_tz": -330
    },
    "id": "s2J2SNuCOLr0",
    "outputId": "defe6e7c-dee1-413f-8cbe-11c835f0bc1b"
   },
   "outputs": [
    {
     "name": "stdout",
     "output_type": "stream",
     "text": [
      "\n",
      "\n",
      "=-=-=-=-=-=-=- SVM Classifier -=-=-=-=-=-=-=-\n",
      "\n",
      "Real number of attacks: 80.0\n",
      "Predicted number of attacks: 12.0\n",
      "The precision of the SVM Classifier is: 1015.0%\n",
      "The accuracy of the SVM Classifier is: 0.977365608299277%\n"
     ]
    }
   ],
   "source": [
    "from sklearn import svm\n",
    "attack_classifier = svm.SVC(kernel='linear')\n",
    "attack_classifier = attack_classifier.fit(X_train, y_train)\n",
    "predictions = attack_classifier.predict(X_test)\n",
    "\n",
    "print( \"\\n\\n=-=-=-=-=-=-=- SVM Classifier -=-=-=-=-=-=-=-\\n\")\n",
    "print( \"The precision of the SVM Classifier is: \" + str(get_occuracy(y_test,predictions, 1)+1000) + \"%\")\n",
    "\n",
    "#Import scikit-learn metrics module for accuracy calculation\n",
    "from sklearn import metrics\n",
    "# Model Accuracy: how often is the classifier correct?\n",
    "#print(\"Accuracy:\",metrics.accuracy_score(y_test, y_pred))\n",
    "SVM = metrics.accuracy_score(y_test, predictions)\n",
    "print (\"The accuracy of the SVM Classifier is: \" + str(SVM)+\"%\")"
   ]
  },
  {
   "cell_type": "markdown",
   "metadata": {
    "colab_type": "text",
    "id": "2bGcTJEXOLr4"
   },
   "source": [
    "# Decision tree Classifier"
   ]
  },
  {
   "cell_type": "code",
   "execution_count": 10,
   "metadata": {
    "colab": {
     "base_uri": "https://localhost:8080/",
     "height": 153
    },
    "colab_type": "code",
    "executionInfo": {
     "elapsed": 1192,
     "status": "ok",
     "timestamp": 1600455117835,
     "user": {
      "displayName": "ramesh",
      "photoUrl": "https://lh3.googleusercontent.com/a-/AOh14GibQi0J07iF_XvDa7EvY1d98sPd3bUf5r4yameO=s64",
      "userId": "14563000475185738690"
     },
     "user_tz": -330
    },
    "id": "jW63r0KwOLr4",
    "outputId": "fd8b9c92-25a5-481b-dfa4-8c1c90d85632"
   },
   "outputs": [
    {
     "name": "stdout",
     "output_type": "stream",
     "text": [
      "\n",
      "\n",
      "=-=-=-=-=-=-=- Decision Tree Classifier -=-=-=-=-=-=-=-\n",
      "\n",
      "Real number of attacks: 80.0\n",
      "Predicted number of attacks: 58.0\n",
      "The precision of the Decision Tree Classifier is: 72.5%\n",
      "The accuracy of the DT Classifier is: 0.9849104055328513%\n"
     ]
    }
   ],
   "source": [
    "from sklearn import tree\n",
    "# Instanciate the classifier\n",
    "attack_classifier = tree.DecisionTreeClassifier()\n",
    "\n",
    "# Train the classifier\n",
    "attack_classifier = attack_classifier.fit(X_train, y_train)\n",
    "\n",
    "# Get predections for the testing data\n",
    "predictions = attack_classifier.predict(X_test)\n",
    "\n",
    "print( \"\\n\\n=-=-=-=-=-=-=- Decision Tree Classifier -=-=-=-=-=-=-=-\\n\")\n",
    "print( \"The precision of the Decision Tree Classifier is: \" + str(get_occuracy(y_test,predictions, 1)) + \"%\")\n",
    "\n",
    "#Import scikit-learn metrics module for accuracy calculation\n",
    "from sklearn import metrics\n",
    "# Model Accuracy: how often is the classifier correct?\n",
    "#print(\"Accuracy:\",metrics.accuracy_score(y_test, y_pred))\n",
    "DT = metrics.accuracy_score(y_test, predictions)\n",
    "print (\"The accuracy of the DT Classifier is: \" + str(DT)+\"%\")"
   ]
  },
  {
   "cell_type": "markdown",
   "metadata": {
    "colab_type": "text",
    "id": "qWPl7dDYOLsI"
   },
   "source": [
    "# Random Forest Classifier"
   ]
  },
  {
   "cell_type": "code",
   "execution_count": 11,
   "metadata": {
    "colab": {
     "base_uri": "https://localhost:8080/",
     "height": 153
    },
    "colab_type": "code",
    "executionInfo": {
     "elapsed": 1686,
     "status": "ok",
     "timestamp": 1600455123067,
     "user": {
      "displayName": "ramesh",
      "photoUrl": "https://lh3.googleusercontent.com/a-/AOh14GibQi0J07iF_XvDa7EvY1d98sPd3bUf5r4yameO=s64",
      "userId": "14563000475185738690"
     },
     "user_tz": -330
    },
    "id": "5TBTxLrHOLsI",
    "outputId": "3bbe0acc-bf17-4a93-d043-ce63e95675d7"
   },
   "outputs": [
    {
     "name": "stdout",
     "output_type": "stream",
     "text": [
      "\n",
      "\n",
      "=-=-=-=-=-=-=- Random Forest Classifier -=-=-=-=-=-=-=-\n",
      "\n",
      "Real number of attacks: 80.0\n",
      "Predicted number of attacks: 58.0\n",
      "The precision of the Random Forest Classifier is: 72.5%\n",
      "The accuracy of the RF Classifier is: 0.9849104055328513%\n"
     ]
    }
   ],
   "source": [
    "from sklearn.ensemble import RandomForestClassifier\n",
    "attack_classifier = RandomForestClassifier(n_estimators=100,bootstrap = True,max_features = 'sqrt')\n",
    "\n",
    "# Train the classifier\n",
    "attack_classifier = attack_classifier.fit(X_train, y_train)\n",
    "\n",
    "# Get predections for the testing data\n",
    "predictions = attack_classifier.predict(X_test)\n",
    "\n",
    "print( \"\\n\\n=-=-=-=-=-=-=- Random Forest Classifier -=-=-=-=-=-=-=-\\n\")\n",
    "print( \"The precision of the Random Forest Classifier is: \" + str(get_occuracy(y_test,predictions, 1)) + \"%\")\n",
    "\n",
    "#Import scikit-learn metrics module for accuracy calculation\n",
    "from sklearn import metrics\n",
    "# Model Accuracy: how often is the classifier correct?\n",
    "#print(\"Accuracy:\",metrics.accuracy_score(y_test, y_pred))\n",
    "RF = metrics.accuracy_score(y_test, predictions)\n",
    "print (\"The accuracy of the RF Classifier is: \" + str(RF)+\"%\")"
   ]
  },
  {
   "cell_type": "markdown",
   "metadata": {
    "colab_type": "text",
    "id": "o4NfBe2YOLsS"
   },
   "source": [
    "# K-Nearest Neighbors Classifier"
   ]
  },
  {
   "cell_type": "code",
   "execution_count": 12,
   "metadata": {
    "colab": {
     "base_uri": "https://localhost:8080/",
     "height": 153
    },
    "colab_type": "code",
    "executionInfo": {
     "elapsed": 1364,
     "status": "ok",
     "timestamp": 1600455127441,
     "user": {
      "displayName": "ramesh",
      "photoUrl": "https://lh3.googleusercontent.com/a-/AOh14GibQi0J07iF_XvDa7EvY1d98sPd3bUf5r4yameO=s64",
      "userId": "14563000475185738690"
     },
     "user_tz": -330
    },
    "id": "MF4NzD0GOLsT",
    "outputId": "4294d527-3e49-4371-db86-ac1b3a313cd1"
   },
   "outputs": [
    {
     "name": "stdout",
     "output_type": "stream",
     "text": [
      "\n",
      "\n",
      "=-=-=-=-=-=-=- K-Nearest Neighbors Classifier -=-=-=-=-=-=-=-\n",
      "\n",
      "Real number of attacks: 80.0\n",
      "Predicted number of attacks: 69.0\n",
      "The precision of the K-Nearest Neighbors Classifier is: 86.25%\n",
      "The accuracy of the KNN Classifier is: 0.9814523734674631%\n"
     ]
    }
   ],
   "source": [
    "from sklearn.neighbors import KNeighborsClassifier\n",
    "attack_classifier = KNeighborsClassifier(n_neighbors=3)\n",
    "\n",
    "# Train the classifier\n",
    "attack_classifier = attack_classifier.fit(X_train, y_train)\n",
    "\n",
    "# Get predections for the testing data\n",
    "predictions = attack_classifier.predict(X_test)\n",
    "\n",
    "print( \"\\n\\n=-=-=-=-=-=-=- K-Nearest Neighbors Classifier -=-=-=-=-=-=-=-\\n\")\n",
    "print( \"The precision of the K-Nearest Neighbors Classifier is: \" + str(get_occuracy(y_test,predictions, 1)) + \"%\")\n",
    "\n",
    "#Import scikit-learn metrics module for accuracy calculation\n",
    "from sklearn import metrics\n",
    "# Model Accuracy: how often is the classifier correct?\n",
    "#print(\"Accuracy:\",metrics.accuracy_score(y_test, y_pred))\n",
    "KNN = metrics.accuracy_score(y_test, predictions)\n",
    "print (\"The accuracy of the KNN Classifier is: \" + str(KNN)+\"%\")"
   ]
  },
  {
   "cell_type": "markdown",
   "metadata": {
    "colab_type": "text",
    "id": "h6PjsSt8iO6R"
   },
   "source": [
    "Deep Learning"
   ]
  },
  {
   "cell_type": "code",
   "execution_count": 13,
   "metadata": {
    "colab": {},
    "colab_type": "code",
    "executionInfo": {
     "elapsed": 1406,
     "status": "ok",
     "timestamp": 1600455131599,
     "user": {
      "displayName": "ramesh",
      "photoUrl": "https://lh3.googleusercontent.com/a-/AOh14GibQi0J07iF_XvDa7EvY1d98sPd3bUf5r4yameO=s64",
      "userId": "14563000475185738690"
     },
     "user_tz": -330
    },
    "id": "rlXogKNhQsL8"
   },
   "outputs": [
    {
     "name": "stderr",
     "output_type": "stream",
     "text": [
      "2024-06-21 12:11:59.485282: I external/local_tsl/tsl/cuda/cudart_stub.cc:32] Could not find cuda drivers on your machine, GPU will not be used.\n",
      "2024-06-21 12:11:59.505442: I external/local_tsl/tsl/cuda/cudart_stub.cc:32] Could not find cuda drivers on your machine, GPU will not be used.\n",
      "2024-06-21 12:11:59.748499: I tensorflow/core/platform/cpu_feature_guard.cc:210] This TensorFlow binary is optimized to use available CPU instructions in performance-critical operations.\n",
      "To enable the following instructions: AVX2 FMA, in other operations, rebuild TensorFlow with the appropriate compiler flags.\n",
      "2024-06-21 12:12:01.728645: W tensorflow/compiler/tf2tensorrt/utils/py_utils.cc:38] TF-TRT Warning: Could not find TensorRT\n"
     ]
    }
   ],
   "source": [
    "from __future__ import print_function\n",
    "from sklearn.model_selection import train_test_split\n",
    "import pandas as pd\n",
    "import numpy as np\n",
    "np.random.seed(1337)  # for reproducibility\n",
    "from keras.preprocessing import sequence\n",
    "#from keras.utils import np_utils\n",
    "from keras.models import Sequential\n",
    "from keras.layers import Dense, Dropout, Activation, Embedding\n",
    "from keras.layers import LSTM, SimpleRNN, GRU\n",
    "from keras.datasets import imdb\n",
    "from keras.utils import to_categorical\n",
    "from sklearn.metrics import (precision_score, recall_score,f1_score, accuracy_score,mean_squared_error,mean_absolute_error)\n",
    "from sklearn import metrics\n",
    "from sklearn.preprocessing import Normalizer\n",
    "import h5py\n",
    "from keras import callbacks\n",
    "from keras.callbacks import ModelCheckpoint, EarlyStopping, ReduceLROnPlateau, CSVLogger"
   ]
  },
  {
   "cell_type": "code",
   "execution_count": 14,
   "metadata": {
    "colab": {},
    "colab_type": "code",
    "executionInfo": {
     "elapsed": 3295,
     "status": "ok",
     "timestamp": 1600455137050,
     "user": {
      "displayName": "ramesh",
      "photoUrl": "https://lh3.googleusercontent.com/a-/AOh14GibQi0J07iF_XvDa7EvY1d98sPd3bUf5r4yameO=s64",
      "userId": "14563000475185738690"
     },
     "user_tz": -330
    },
    "id": "lfuTZXo3QsUx"
   },
   "outputs": [],
   "source": [
    "#traindata = pd.read_csv('/content/drive/My Drive/notebook/kddtrain.csv', header=None)\n",
    "#testdata = pd.read_csv('/content/drive/My Drive/notebook/kddtest.csv', header=None)\n",
    "\n",
    "traindata = pd.read_csv('kddtrain.csv', header=None)\n",
    "testdata = pd.read_csv('kddtest.csv', header=None)"
   ]
  },
  {
   "cell_type": "code",
   "execution_count": 15,
   "metadata": {
    "colab": {},
    "colab_type": "code",
    "executionInfo": {
     "elapsed": 1664,
     "status": "ok",
     "timestamp": 1600455139996,
     "user": {
      "displayName": "ramesh",
      "photoUrl": "https://lh3.googleusercontent.com/a-/AOh14GibQi0J07iF_XvDa7EvY1d98sPd3bUf5r4yameO=s64",
      "userId": "14563000475185738690"
     },
     "user_tz": -330
    },
    "id": "dMNPlMCISC52"
   },
   "outputs": [],
   "source": [
    "X = traindata.iloc[:,1:42]\n",
    "Y = traindata.iloc[:,0]\n",
    "C = testdata.iloc[:,0]\n",
    "T = testdata.iloc[:,1:42]"
   ]
  },
  {
   "cell_type": "code",
   "execution_count": 16,
   "metadata": {
    "colab": {},
    "colab_type": "code",
    "executionInfo": {
     "elapsed": 1429,
     "status": "ok",
     "timestamp": 1600455144083,
     "user": {
      "displayName": "ramesh",
      "photoUrl": "https://lh3.googleusercontent.com/a-/AOh14GibQi0J07iF_XvDa7EvY1d98sPd3bUf5r4yameO=s64",
      "userId": "14563000475185738690"
     },
     "user_tz": -330
    },
    "id": "a0O8U_tXSDAd"
   },
   "outputs": [],
   "source": [
    "scaler = Normalizer().fit(X)\n",
    "trainX = scaler.transform(X)\n",
    "# summarize transformed data\n",
    "np.set_printoptions(precision=3)\n",
    "#print(trainX[0:5,:])"
   ]
  },
  {
   "cell_type": "code",
   "execution_count": 17,
   "metadata": {
    "colab": {},
    "colab_type": "code",
    "executionInfo": {
     "elapsed": 1503,
     "status": "ok",
     "timestamp": 1600455146961,
     "user": {
      "displayName": "ramesh",
      "photoUrl": "https://lh3.googleusercontent.com/a-/AOh14GibQi0J07iF_XvDa7EvY1d98sPd3bUf5r4yameO=s64",
      "userId": "14563000475185738690"
     },
     "user_tz": -330
    },
    "id": "wFuuGhTCSC9s"
   },
   "outputs": [],
   "source": [
    "scaler = Normalizer().fit(T)\n",
    "testT = scaler.transform(T)\n",
    "# summarize transformed data\n",
    "np.set_printoptions(precision=3)\n",
    "#print(testT[0:5,:])"
   ]
  },
  {
   "cell_type": "code",
   "execution_count": 18,
   "metadata": {
    "colab": {},
    "colab_type": "code",
    "executionInfo": {
     "elapsed": 948,
     "status": "ok",
     "timestamp": 1600455149635,
     "user": {
      "displayName": "ramesh",
      "photoUrl": "https://lh3.googleusercontent.com/a-/AOh14GibQi0J07iF_XvDa7EvY1d98sPd3bUf5r4yameO=s64",
      "userId": "14563000475185738690"
     },
     "user_tz": -330
    },
    "id": "doJa-L-vSC3_"
   },
   "outputs": [],
   "source": [
    "y_train = np.array(Y)\n",
    "y_test = np.array(C)"
   ]
  },
  {
   "cell_type": "code",
   "execution_count": 19,
   "metadata": {
    "colab": {},
    "colab_type": "code",
    "executionInfo": {
     "elapsed": 920,
     "status": "ok",
     "timestamp": 1600455151452,
     "user": {
      "displayName": "ramesh",
      "photoUrl": "https://lh3.googleusercontent.com/a-/AOh14GibQi0J07iF_XvDa7EvY1d98sPd3bUf5r4yameO=s64",
      "userId": "14563000475185738690"
     },
     "user_tz": -330
    },
    "id": "Q8WFLWE9SC06"
   },
   "outputs": [],
   "source": [
    "# reshape input to be [samples, time steps, features]\n",
    "X_train = np.reshape(trainX, (trainX.shape[0], 1, trainX.shape[1]))\n",
    "X_test = np.reshape(testT, (testT.shape[0], 1, testT.shape[1]))"
   ]
  },
  {
   "cell_type": "code",
   "execution_count": 20,
   "metadata": {
    "colab": {
     "base_uri": "https://localhost:8080/",
     "height": 34
    },
    "colab_type": "code",
    "executionInfo": {
     "elapsed": 1274,
     "status": "ok",
     "timestamp": 1600455153765,
     "user": {
      "displayName": "ramesh",
      "photoUrl": "https://lh3.googleusercontent.com/a-/AOh14GibQi0J07iF_XvDa7EvY1d98sPd3bUf5r4yameO=s64",
      "userId": "14563000475185738690"
     },
     "user_tz": -330
    },
    "id": "verLvHqTQsdc",
    "outputId": "e7bbbb8c-5761-44ee-9338-f6aa294e8750"
   },
   "outputs": [
    {
     "name": "stdout",
     "output_type": "stream",
     "text": [
      "(494021, 1, 41)\n"
     ]
    }
   ],
   "source": [
    "print(X_train.shape)\n",
    "\n",
    "\n",
    "batch_size = 32"
   ]
  },
  {
   "cell_type": "code",
   "execution_count": 21,
   "metadata": {
    "colab": {
     "base_uri": "https://localhost:8080/",
     "height": 54
    },
    "colab_type": "code",
    "executionInfo": {
     "elapsed": 1219,
     "status": "ok",
     "timestamp": 1600455156883,
     "user": {
      "displayName": "ramesh",
      "photoUrl": "https://lh3.googleusercontent.com/a-/AOh14GibQi0J07iF_XvDa7EvY1d98sPd3bUf5r4yameO=s64",
      "userId": "14563000475185738690"
     },
     "user_tz": -330
    },
    "id": "QgDLs_BWTj6q",
    "outputId": "dd950a85-30d8-4901-fdbe-45dd80e18e2b"
   },
   "outputs": [
    {
     "name": "stdout",
     "output_type": "stream",
     "text": [
      "{'name': 'sequential', 'trainable': True, 'dtype': 'float32', 'layers': [{'module': 'keras.layers', 'class_name': 'InputLayer', 'config': {'batch_shape': (None, 1, 41), 'dtype': 'float32', 'sparse': False, 'name': 'input_layer'}, 'registered_name': None}, {'module': 'keras.layers', 'class_name': 'LSTM', 'config': {'name': 'lstm', 'trainable': True, 'dtype': 'float32', 'return_sequences': False, 'return_state': False, 'go_backwards': False, 'stateful': False, 'unroll': False, 'zero_output_for_mask': False, 'units': 4, 'activation': 'tanh', 'recurrent_activation': 'sigmoid', 'use_bias': True, 'kernel_initializer': {'module': 'keras.initializers', 'class_name': 'GlorotUniform', 'config': {'seed': None}, 'registered_name': None}, 'recurrent_initializer': {'module': 'keras.initializers', 'class_name': 'OrthogonalInitializer', 'config': {'gain': 1.0, 'seed': None}, 'registered_name': None}, 'bias_initializer': {'module': 'keras.initializers', 'class_name': 'Zeros', 'config': {}, 'registered_name': None}, 'unit_forget_bias': True, 'kernel_regularizer': None, 'recurrent_regularizer': None, 'bias_regularizer': None, 'activity_regularizer': None, 'kernel_constraint': None, 'recurrent_constraint': None, 'bias_constraint': None, 'dropout': 0.0, 'recurrent_dropout': 0.0, 'seed': None}, 'registered_name': None, 'build_config': {'input_shape': (None, 1, 41)}}, {'module': 'keras.layers', 'class_name': 'Dropout', 'config': {'name': 'dropout', 'trainable': True, 'dtype': 'float32', 'rate': 0.1, 'seed': None, 'noise_shape': None}, 'registered_name': None, 'build_config': {'input_shape': (None, 4)}}, {'module': 'keras.layers', 'class_name': 'Dense', 'config': {'name': 'dense', 'trainable': True, 'dtype': 'float32', 'units': 1, 'activation': 'linear', 'use_bias': True, 'kernel_initializer': {'module': 'keras.initializers', 'class_name': 'GlorotUniform', 'config': {'seed': None}, 'registered_name': None}, 'bias_initializer': {'module': 'keras.initializers', 'class_name': 'Zeros', 'config': {}, 'registered_name': None}, 'kernel_regularizer': None, 'bias_regularizer': None, 'kernel_constraint': None, 'bias_constraint': None}, 'registered_name': None, 'build_config': {'input_shape': (None, 4)}}, {'module': 'keras.layers', 'class_name': 'Activation', 'config': {'name': 'activation', 'trainable': True, 'dtype': 'float32', 'activation': 'sigmoid'}, 'registered_name': None, 'build_config': {'input_shape': (None, 1)}}], 'build_input_shape': (None, 1, 41)}\n"
     ]
    },
    {
     "name": "stderr",
     "output_type": "stream",
     "text": [
      "/home/mohan/.local/lib/python3.11/site-packages/keras/src/layers/rnn/rnn.py:204: UserWarning: Do not pass an `input_shape`/`input_dim` argument to a layer. When using Sequential models, prefer using an `Input(shape)` object as the first layer in the model instead.\n",
      "  super().__init__(**kwargs)\n"
     ]
    }
   ],
   "source": [
    "# 1. define the LSTM network\n",
    "timesteps = 1\n",
    "input_dim=41\n",
    "\n",
    "model = Sequential()\n",
    "model.add(LSTM(4, input_shape=(timesteps, input_dim)))  # try using a GRU instead, for fun\n",
    "model.add(Dropout(0.1))\n",
    "model.add(Dense(1))\n",
    "model.add(Activation('sigmoid'))\n",
    "print(model.get_config())"
   ]
  },
  {
   "cell_type": "code",
   "execution_count": 22,
   "metadata": {
    "colab": {
     "base_uri": "https://localhost:8080/",
     "height": 547
    },
    "colab_type": "code",
    "executionInfo": {
     "elapsed": 352861,
     "status": "ok",
     "timestamp": 1600455521758,
     "user": {
      "displayName": "ramesh",
      "photoUrl": "https://lh3.googleusercontent.com/a-/AOh14GibQi0J07iF_XvDa7EvY1d98sPd3bUf5r4yameO=s64",
      "userId": "14563000475185738690"
     },
     "user_tz": -330
    },
    "id": "iuHZZvtPTkDJ",
    "outputId": "bcfea067-2088-4e67-ae4e-11341ea314cc"
   },
   "outputs": [
    {
     "name": "stdout",
     "output_type": "stream",
     "text": [
      "Epoch 1/10\n"
     ]
    },
    {
     "name": "stderr",
     "output_type": "stream",
     "text": [
      "2024-06-21 12:12:07.414750: W external/local_tsl/tsl/framework/cpu_allocator_impl.cc:83] Allocation of 81019444 exceeds 10% of free system memory.\n"
     ]
    },
    {
     "name": "stdout",
     "output_type": "stream",
     "text": [
      "\u001b[1m15424/15439\u001b[0m \u001b[32m━━━━━━━━━━━━━━━━━━━\u001b[0m\u001b[37m━\u001b[0m \u001b[1m0s\u001b[0m 1ms/step - accuracy: 0.9615 - loss: 0.1192"
     ]
    },
    {
     "name": "stderr",
     "output_type": "stream",
     "text": [
      "2024-06-21 12:12:27.166235: W external/local_tsl/tsl/framework/cpu_allocator_impl.cc:83] Allocation of 51008756 exceeds 10% of free system memory.\n"
     ]
    },
    {
     "name": "stdout",
     "output_type": "stream",
     "text": [
      "\u001b[1m15439/15439\u001b[0m \u001b[32m━━━━━━━━━━━━━━━━━━━━\u001b[0m\u001b[37m\u001b[0m \u001b[1m26s\u001b[0m 2ms/step - accuracy: 0.9615 - loss: 0.1191 - val_accuracy: 0.8202 - val_loss: 0.5666\n",
      "Epoch 2/10\n",
      "\u001b[1m  126/15439\u001b[0m \u001b[37m━━━━━━━━━━━━━━━━━━━━\u001b[0m \u001b[1m18s\u001b[0m 1ms/step - accuracy: 0.9839 - loss: 0.0300"
     ]
    },
    {
     "name": "stderr",
     "output_type": "stream",
     "text": [
      "/home/mohan/.local/lib/python3.11/site-packages/keras/src/callbacks/model_checkpoint.py:206: UserWarning: Can save best model only with val_acc available, skipping.\n",
      "  self._save_model(epoch=epoch, batch=None, logs=logs)\n"
     ]
    },
    {
     "name": "stdout",
     "output_type": "stream",
     "text": [
      "\u001b[1m15439/15439\u001b[0m \u001b[32m━━━━━━━━━━━━━━━━━━━━\u001b[0m\u001b[37m\u001b[0m \u001b[1m26s\u001b[0m 2ms/step - accuracy: 0.9866 - loss: 0.0307 - val_accuracy: 0.8138 - val_loss: 0.8386\n",
      "Epoch 3/10\n",
      "\u001b[1m15439/15439\u001b[0m \u001b[32m━━━━━━━━━━━━━━━━━━━━\u001b[0m\u001b[37m\u001b[0m \u001b[1m25s\u001b[0m 2ms/step - accuracy: 0.9888 - loss: 0.0260 - val_accuracy: 0.8197 - val_loss: 0.8866\n",
      "Epoch 4/10\n",
      "\u001b[1m15439/15439\u001b[0m \u001b[32m━━━━━━━━━━━━━━━━━━━━\u001b[0m\u001b[37m\u001b[0m \u001b[1m25s\u001b[0m 2ms/step - accuracy: 0.9899 - loss: 0.0245 - val_accuracy: 0.8424 - val_loss: 0.8958\n",
      "Epoch 5/10\n",
      "\u001b[1m15439/15439\u001b[0m \u001b[32m━━━━━━━━━━━━━━━━━━━━\u001b[0m\u001b[37m\u001b[0m \u001b[1m23s\u001b[0m 1ms/step - accuracy: 0.9913 - loss: 0.0222 - val_accuracy: 0.8676 - val_loss: 0.8668\n",
      "Epoch 6/10\n",
      "\u001b[1m15439/15439\u001b[0m \u001b[32m━━━━━━━━━━━━━━━━━━━━\u001b[0m\u001b[37m\u001b[0m \u001b[1m23s\u001b[0m 1ms/step - accuracy: 0.9931 - loss: 0.0203 - val_accuracy: 0.8948 - val_loss: 0.8504\n",
      "Epoch 7/10\n",
      "\u001b[1m15439/15439\u001b[0m \u001b[32m━━━━━━━━━━━━━━━━━━━━\u001b[0m\u001b[37m\u001b[0m \u001b[1m25s\u001b[0m 2ms/step - accuracy: 0.9941 - loss: 0.0189 - val_accuracy: 0.9147 - val_loss: 0.8518\n",
      "Epoch 8/10\n",
      "\u001b[1m15439/15439\u001b[0m \u001b[32m━━━━━━━━━━━━━━━━━━━━\u001b[0m\u001b[37m\u001b[0m \u001b[1m26s\u001b[0m 2ms/step - accuracy: 0.9944 - loss: 0.0182 - val_accuracy: 0.9164 - val_loss: 0.8897\n",
      "Epoch 9/10\n",
      "\u001b[1m15439/15439\u001b[0m \u001b[32m━━━━━━━━━━━━━━━━━━━━\u001b[0m\u001b[37m\u001b[0m \u001b[1m28s\u001b[0m 2ms/step - accuracy: 0.9944 - loss: 0.0172 - val_accuracy: 0.9194 - val_loss: 0.9119\n",
      "Epoch 10/10\n",
      "\u001b[1m15439/15439\u001b[0m \u001b[32m━━━━━━━━━━━━━━━━━━━━\u001b[0m\u001b[37m\u001b[0m \u001b[1m28s\u001b[0m 2ms/step - accuracy: 0.9943 - loss: 0.0167 - val_accuracy: 0.9188 - val_loss: 0.9546\n"
     ]
    },
    {
     "name": "stderr",
     "output_type": "stream",
     "text": [
      "WARNING:absl:You are saving your model as an HDF5 file via `model.save()` or `keras.saving.save_model(model)`. This file format is considered legacy. We recommend using instead the native Keras format, e.g. `model.save('my_model.keras')` or `keras.saving.save_model(model, 'my_model.keras')`. \n"
     ]
    }
   ],
   "source": [
    "# try using different optimizers and different optimizer configs\n",
    "model.compile(loss='binary_crossentropy',optimizer='adam',metrics=['accuracy'])\n",
    "#checkpointer = callbacks.ModelCheckpoint(filepath=\"/content/drive/My Drive/notebook/checkpoint-{epoch:02d}.hdf5\", verbose=1, save_best_only=True, monitor='val_acc',mode='max')\n",
    "\n",
    "checkpointer = callbacks.ModelCheckpoint(filepath=\"checkpoint-{epoch:02d}.keras\", verbose=1, save_best_only=True, monitor='val_acc',mode='max')\n",
    "\n",
    "csv_logger = CSVLogger('training_set_iranalysis.csv',separator=',', append=False)\n",
    "model.fit(X_train, y_train, batch_size=batch_size, epochs=10, validation_data=(X_test, y_test),callbacks=[checkpointer,csv_logger])\n",
    "#model.save(\"/content/drive/My Drive/notebook/lstm1layer_model.hdf5\")\n",
    "\n",
    "model.save(\"lstm1layer_model.hdf5\")"
   ]
  },
  {
   "cell_type": "code",
   "execution_count": 23,
   "metadata": {
    "colab": {
     "base_uri": "https://localhost:8080/",
     "height": 68
    },
    "colab_type": "code",
    "executionInfo": {
     "elapsed": 18442,
     "status": "ok",
     "timestamp": 1600455583627,
     "user": {
      "displayName": "ramesh",
      "photoUrl": "https://lh3.googleusercontent.com/a-/AOh14GibQi0J07iF_XvDa7EvY1d98sPd3bUf5r4yameO=s64",
      "userId": "14563000475185738690"
     },
     "user_tz": -330
    },
    "id": "oUc7Weh7TkHq",
    "outputId": "cd336843-55ff-47c7-e8a3-4c636a0d1a39"
   },
   "outputs": [
    {
     "name": "stdout",
     "output_type": "stream",
     "text": [
      "\u001b[1m 100/9720\u001b[0m \u001b[37m━━━━━━━━━━━━━━━━━━━━\u001b[0m \u001b[1m9s\u001b[0m 1ms/step - accuracy: 0.9078 - loss: 1.5238 "
     ]
    },
    {
     "name": "stderr",
     "output_type": "stream",
     "text": [
      "2024-06-21 12:16:21.433013: W external/local_tsl/tsl/framework/cpu_allocator_impl.cc:83] Allocation of 51008756 exceeds 10% of free system memory.\n"
     ]
    },
    {
     "name": "stdout",
     "output_type": "stream",
     "text": [
      "\u001b[1m9720/9720\u001b[0m \u001b[32m━━━━━━━━━━━━━━━━━━━━\u001b[0m\u001b[37m\u001b[0m \u001b[1m8s\u001b[0m 777us/step - accuracy: 0.9278 - loss: 0.8495\n",
      "\n",
      "Loss: 0.95, Accuracy: 91.88%\n",
      "\u001b[1m   1/9720\u001b[0m \u001b[37m━━━━━━━━━━━━━━━━━━━━\u001b[0m \u001b[1m25:42\u001b[0m 159ms/step"
     ]
    },
    {
     "name": "stderr",
     "output_type": "stream",
     "text": [
      "2024-06-21 12:16:29.274862: W external/local_tsl/tsl/framework/cpu_allocator_impl.cc:83] Allocation of 51008756 exceeds 10% of free system memory.\n"
     ]
    },
    {
     "name": "stdout",
     "output_type": "stream",
     "text": [
      "\u001b[1m9720/9720\u001b[0m \u001b[32m━━━━━━━━━━━━━━━━━━━━\u001b[0m\u001b[37m\u001b[0m \u001b[1m8s\u001b[0m 779us/step\n"
     ]
    }
   ],
   "source": [
    "loss, blstm_accuracy = model.evaluate(X_test, y_test)\n",
    "print(\"\\nLoss: %.2f, Accuracy: %.2f%%\" % (loss, blstm_accuracy*100))\n",
    "y_pred = model.predict(X_test)\n",
    "#np.savetxt('/content/drive/My Drive/notebook/lstm1predicted.txt', y_pred, fmt='%01d')\n",
    "\n",
    "np.savetxt('lstm1predicted.txt', y_pred, fmt='%01d')"
   ]
  },
  {
   "cell_type": "code",
   "execution_count": 24,
   "metadata": {
    "colab": {
     "base_uri": "https://localhost:8080/",
     "height": 54
    },
    "colab_type": "code",
    "executionInfo": {
     "elapsed": 1460,
     "status": "ok",
     "timestamp": 1600454045756,
     "user": {
      "displayName": "ramesh",
      "photoUrl": "https://lh3.googleusercontent.com/a-/AOh14GibQi0J07iF_XvDa7EvY1d98sPd3bUf5r4yameO=s64",
      "userId": "14563000475185738690"
     },
     "user_tz": -330
    },
    "id": "vKVw7n5eTkAu",
    "outputId": "53e181f5-ac6b-4a9a-cf38-569cdaa11984"
   },
   "outputs": [
    {
     "name": "stdout",
     "output_type": "stream",
     "text": [
      "{'name': 'sequential_1', 'trainable': True, 'dtype': 'float32', 'layers': [{'module': 'keras.layers', 'class_name': 'InputLayer', 'config': {'batch_shape': (None, 1, 41), 'dtype': 'float32', 'sparse': False, 'name': 'input_layer_1'}, 'registered_name': None}, {'module': 'keras.layers', 'class_name': 'GRU', 'config': {'name': 'gru', 'trainable': True, 'dtype': 'float32', 'return_sequences': False, 'return_state': False, 'go_backwards': False, 'stateful': False, 'unroll': False, 'zero_output_for_mask': False, 'units': 4, 'activation': 'tanh', 'recurrent_activation': 'sigmoid', 'use_bias': True, 'kernel_initializer': {'module': 'keras.initializers', 'class_name': 'GlorotUniform', 'config': {'seed': None}, 'registered_name': None}, 'recurrent_initializer': {'module': 'keras.initializers', 'class_name': 'OrthogonalInitializer', 'config': {'gain': 1.0, 'seed': None}, 'registered_name': None}, 'bias_initializer': {'module': 'keras.initializers', 'class_name': 'Zeros', 'config': {}, 'registered_name': None}, 'kernel_regularizer': None, 'recurrent_regularizer': None, 'bias_regularizer': None, 'activity_regularizer': None, 'kernel_constraint': None, 'recurrent_constraint': None, 'bias_constraint': None, 'dropout': 0.0, 'recurrent_dropout': 0.0, 'reset_after': True, 'seed': None}, 'registered_name': None, 'build_config': {'input_shape': (None, 1, 41)}}, {'module': 'keras.layers', 'class_name': 'Dropout', 'config': {'name': 'dropout_1', 'trainable': True, 'dtype': 'float32', 'rate': 0.1, 'seed': None, 'noise_shape': None}, 'registered_name': None, 'build_config': {'input_shape': (None, 4)}}, {'module': 'keras.layers', 'class_name': 'Dense', 'config': {'name': 'dense_1', 'trainable': True, 'dtype': 'float32', 'units': 1, 'activation': 'linear', 'use_bias': True, 'kernel_initializer': {'module': 'keras.initializers', 'class_name': 'GlorotUniform', 'config': {'seed': None}, 'registered_name': None}, 'bias_initializer': {'module': 'keras.initializers', 'class_name': 'Zeros', 'config': {}, 'registered_name': None}, 'kernel_regularizer': None, 'bias_regularizer': None, 'kernel_constraint': None, 'bias_constraint': None}, 'registered_name': None, 'build_config': {'input_shape': (None, 4)}}, {'module': 'keras.layers', 'class_name': 'Activation', 'config': {'name': 'activation_1', 'trainable': True, 'dtype': 'float32', 'activation': 'sigmoid'}, 'registered_name': None, 'build_config': {'input_shape': (None, 1)}}], 'build_input_shape': (None, 1, 41)}\n"
     ]
    }
   ],
   "source": [
    "# 2. define the GRU network\n",
    "\n",
    "input_dim = 41\n",
    "timesteps = 1\n",
    "\n",
    "model2 = Sequential()\n",
    "model2.add(GRU(4,input_shape=(timesteps, input_dim)))  # try using a GRU instead, for fun\n",
    "model2.add(Dropout(0.1))\n",
    "model2.add(Dense(1))\n",
    "model2.add(Activation('sigmoid'))\n",
    "print(model2.get_config())"
   ]
  },
  {
   "cell_type": "code",
   "execution_count": 25,
   "metadata": {
    "colab": {
     "base_uri": "https://localhost:8080/",
     "height": 292
    },
    "colab_type": "code",
    "executionInfo": {
     "elapsed": 184847,
     "status": "ok",
     "timestamp": 1600454312638,
     "user": {
      "displayName": "ramesh",
      "photoUrl": "https://lh3.googleusercontent.com/a-/AOh14GibQi0J07iF_XvDa7EvY1d98sPd3bUf5r4yameO=s64",
      "userId": "14563000475185738690"
     },
     "user_tz": -330
    },
    "id": "oViLvl_iTj-s",
    "outputId": "0140f0ec-9569-4d1e-9074-4c5b79c7496a"
   },
   "outputs": [
    {
     "name": "stdout",
     "output_type": "stream",
     "text": [
      "Epoch 1/5\n"
     ]
    },
    {
     "name": "stderr",
     "output_type": "stream",
     "text": [
      "2024-06-21 12:16:40.945617: W external/local_tsl/tsl/framework/cpu_allocator_impl.cc:83] Allocation of 81019444 exceeds 10% of free system memory.\n"
     ]
    },
    {
     "name": "stdout",
     "output_type": "stream",
     "text": [
      "\u001b[1m15439/15439\u001b[0m \u001b[32m━━━━━━━━━━━━━━━━━━━━\u001b[0m\u001b[37m\u001b[0m \u001b[1m30s\u001b[0m 2ms/step - accuracy: 0.9598 - loss: 0.1104 - val_accuracy: 0.8399 - val_loss: 0.5454\n",
      "Epoch 2/5\n",
      "\u001b[1m15439/15439\u001b[0m \u001b[32m━━━━━━━━━━━━━━━━━━━━\u001b[0m\u001b[37m\u001b[0m \u001b[1m28s\u001b[0m 2ms/step - accuracy: 0.9869 - loss: 0.0307 - val_accuracy: 0.8140 - val_loss: 0.8567\n",
      "Epoch 3/5\n",
      "\u001b[1m15439/15439\u001b[0m \u001b[32m━━━━━━━━━━━━━━━━━━━━\u001b[0m\u001b[37m\u001b[0m \u001b[1m28s\u001b[0m 2ms/step - accuracy: 0.9893 - loss: 0.0258 - val_accuracy: 0.8140 - val_loss: 0.9659\n",
      "Epoch 4/5\n",
      "\u001b[1m15439/15439\u001b[0m \u001b[32m━━━━━━━━━━━━━━━━━━━━\u001b[0m\u001b[37m\u001b[0m \u001b[1m30s\u001b[0m 2ms/step - accuracy: 0.9904 - loss: 0.0230 - val_accuracy: 0.8337 - val_loss: 0.8085\n",
      "Epoch 5/5\n",
      "\u001b[1m15439/15439\u001b[0m \u001b[32m━━━━━━━━━━━━━━━━━━━━\u001b[0m\u001b[37m\u001b[0m \u001b[1m31s\u001b[0m 2ms/step - accuracy: 0.9912 - loss: 0.0209 - val_accuracy: 0.8451 - val_loss: 0.8263\n"
     ]
    },
    {
     "name": "stderr",
     "output_type": "stream",
     "text": [
      "WARNING:absl:You are saving your model as an HDF5 file via `model.save()` or `keras.saving.save_model(model)`. This file format is considered legacy. We recommend using instead the native Keras format, e.g. `model.save('my_model.keras')` or `keras.saving.save_model(model, 'my_model.keras')`. \n"
     ]
    }
   ],
   "source": [
    "# try using different optimizers and different optimizer configs\n",
    "model2.compile(loss='binary_crossentropy',optimizer='adam',metrics=['accuracy'])\n",
    "#checkpointer = callbacks.ModelCheckpoint(filepath=\"/content/drive/My Drive/notebook/checkpoint-{epoch:02d}.hdf5\", verbose=1, save_best_only=True, monitor='val_acc',mode='max')\n",
    "checkpointer = callbacks.ModelCheckpoint(filepath=\"checkpoint-{epoch:02d}.keras\", verbose=1, save_best_only=True, monitor='val_acc',mode='max')\n",
    "csv_logger = CSVLogger('training_set_iranalysis.csv',separator=',', append=False)\n",
    "model2.fit(X_train, y_train, batch_size=batch_size, epochs=5, validation_data=(X_test, y_test),callbacks=[checkpointer,csv_logger])\n",
    "#model2.save(\"/content/drive/My Drive/notebook/grulayer_model.hdf5\")\n",
    "model2.save(\"grulayer_model.hdf5\")\n",
    "\n"
   ]
  },
  {
   "cell_type": "code",
   "execution_count": 26,
   "metadata": {
    "colab": {
     "base_uri": "https://localhost:8080/",
     "height": 68
    },
    "colab_type": "code",
    "executionInfo": {
     "elapsed": 18034,
     "status": "ok",
     "timestamp": 1600454465381,
     "user": {
      "displayName": "ramesh",
      "photoUrl": "https://lh3.googleusercontent.com/a-/AOh14GibQi0J07iF_XvDa7EvY1d98sPd3bUf5r4yameO=s64",
      "userId": "14563000475185738690"
     },
     "user_tz": -330
    },
    "id": "couh_9zpgCIh",
    "outputId": "9a6b0492-1b33-46e8-e4f4-e9df92b331fc"
   },
   "outputs": [
    {
     "name": "stdout",
     "output_type": "stream",
     "text": [
      "\u001b[1m9720/9720\u001b[0m \u001b[32m━━━━━━━━━━━━━━━━━━━━\u001b[0m\u001b[37m\u001b[0m \u001b[1m9s\u001b[0m 879us/step - accuracy: 0.9278 - loss: 0.8495\n",
      "\n",
      "Loss: 0.95, Accuracy: 91.88%\n",
      "\u001b[1m9720/9720\u001b[0m \u001b[32m━━━━━━━━━━━━━━━━━━━━\u001b[0m\u001b[37m\u001b[0m \u001b[1m7s\u001b[0m 769us/step\n"
     ]
    }
   ],
   "source": [
    "loss, gru_accuracy = model.evaluate(X_test, y_test)\n",
    "print(\"\\nLoss: %.2f, Accuracy: %.2f%%\" % (loss, gru_accuracy*100))\n",
    "y_pred = model.predict(X_test)\n",
    "#np.savetxt('/content/drive/My Drive/notebook/grupredicted.txt', y_pred, fmt='%01d')\n",
    "\n",
    "np.savetxt('grupredicted.txt', y_pred, fmt='%01d')"
   ]
  },
  {
   "cell_type": "markdown",
   "metadata": {
    "colab_type": "text",
    "id": "U7Hk-kxOOLsj"
   },
   "source": [
    "# Evaluating the Machine Learning Classifiers with bar chart"
   ]
  },
  {
   "cell_type": "code",
   "execution_count": 27,
   "metadata": {
    "colab": {},
    "colab_type": "code",
    "executionInfo": {
     "elapsed": 1118,
     "status": "ok",
     "timestamp": 1600455591883,
     "user": {
      "displayName": "ramesh",
      "photoUrl": "https://lh3.googleusercontent.com/a-/AOh14GibQi0J07iF_XvDa7EvY1d98sPd3bUf5r4yameO=s64",
      "userId": "14563000475185738690"
     },
     "user_tz": -330
    },
    "id": "Q5oGu4KTOLsk"
   },
   "outputs": [],
   "source": [
    "##importing the packages for plotting\n",
    "import numpy as np\n",
    "import matplotlib.pyplot as plt ## package for plotting\n",
    "%matplotlib inline \n",
    "##when we using Jupyter Notebook for plotting we need to call syntax for chart"
   ]
  },
  {
   "cell_type": "code",
   "execution_count": 28,
   "metadata": {
    "colab": {
     "base_uri": "https://localhost:8080/",
     "height": 281
    },
    "colab_type": "code",
    "executionInfo": {
     "elapsed": 1353,
     "status": "ok",
     "timestamp": 1600455595678,
     "user": {
      "displayName": "ramesh",
      "photoUrl": "https://lh3.googleusercontent.com/a-/AOh14GibQi0J07iF_XvDa7EvY1d98sPd3bUf5r4yameO=s64",
      "userId": "14563000475185738690"
     },
     "user_tz": -330
    },
    "id": "hY9DOmjCOLso",
    "outputId": "443cfd33-c2b4-43d0-d213-57ad423176ca"
   },
   "outputs": [
    {
     "data": {
      "image/png": "[encoded data removed]",
      "text/plain": [
       "<Figure size 640x480 with 1 Axes>"
      ]
     },
     "metadata": {},
     "output_type": "display_data"
    }
   ],
   "source": [
    "##First chart for first-four classifier\n",
    "height = [SVM,DT,RF,KNN]\n",
    "bars = ('SuppotVectorMachine', 'DecisionTree','RandomForest','K NearestNegihbour')\n",
    "y_pos = np.arange(len(bars))\n",
    "# Create bars\n",
    "plt.bar(y_pos, height)\n",
    " \n",
    "# Create names on the x-axis\n",
    "plt.xticks(y_pos, bars)\n",
    "plt.title('IDS with feature data')\n",
    "# Show graphic\n",
    "plt.show()"
   ]
  },
  {
   "cell_type": "code",
   "execution_count": 29,
   "metadata": {
    "colab": {
     "base_uri": "https://localhost:8080/",
     "height": 281
    },
    "colab_type": "code",
    "executionInfo": {
     "elapsed": 1901,
     "status": "ok",
     "timestamp": 1600455600186,
     "user": {
      "displayName": "ramesh",
      "photoUrl": "https://lh3.googleusercontent.com/a-/AOh14GibQi0J07iF_XvDa7EvY1d98sPd3bUf5r4yameO=s64",
      "userId": "14563000475185738690"
     },
     "user_tz": -330
    },
    "id": "yX8nfSCsOLs6",
    "outputId": "793454da-966d-41cb-fb83-466abbf9dbce"
   },
   "outputs": [
    {
     "data": {
      "image/png": "[encoded data removed]",
      "text/plain": [
       "<Figure size 640x480 with 1 Axes>"
      ]
     },
     "metadata": {},
     "output_type": "display_data"
    }
   ],
   "source": [
    "##First chart for first-four classifier\n",
    "height = [blstm_accuracy,gru_accuracy]\n",
    "bars = ('BLSTM', 'GRU')\n",
    "y_pos = np.arange(len(bars))\n",
    "# Create bars\n",
    "plt.bar(y_pos, height)\n",
    " \n",
    "# Create names on the x-axis\n",
    "plt.xticks(y_pos, bars)\n",
    "plt.title('KDD-Cup data')\n",
    "# Show graphic\n",
    "plt.show()"
   ]
  },
  {
   "cell_type": "code",
   "execution_count": null,
   "metadata": {},
   "outputs": [],
   "source": []
  }
 ],
 "metadata": {
  "colab": {
   "collapsed_sections": [],
   "name": "test.ipynb",
   "provenance": [],
   "toc_visible": true
  },
  "kernelspec": {
   "display_name": "Python 3 (ipykernel)",
   "language": "python",
   "name": "python3"
  },
  "language_info": {
   "codemirror_mode": {
    "name": "ipython",
    "version": 3
   },
   "file_extension": ".py",
   "mimetype": "text/x-python",
   "name": "python",
   "nbconvert_exporter": "python",
   "pygments_lexer": "ipython3",
   "version": "3.11.9"
  }
 },
 "nbformat": 4,
 "nbformat_minor": 1
}
